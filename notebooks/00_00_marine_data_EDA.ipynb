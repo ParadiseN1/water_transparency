{
 "cells": [
  {
   "cell_type": "code",
   "execution_count": 1,
   "id": "5b9c1457-73f5-4642-bba9-1faafb6177e4",
   "metadata": {},
   "outputs": [],
   "source": [
    "import torch\n",
    "import pandas as pd\n",
    "import numpy as np\n",
    "import lovely_tensors as lt\n",
    "\n",
    "lt.monkey_patch()"
   ]
  },
  {
   "cell_type": "code",
   "execution_count": 2,
   "id": "68fda20a-0fc4-4342-a9f8-1fba5e30ef33",
   "metadata": {},
   "outputs": [
    {
     "name": "stdout",
     "output_type": "stream",
     "text": [
      "Downloading...\n",
      "From: https://drive.google.com/uc?id=1-2Jz6QSQ4tqXRM6eDRhcMiffU6GA04_9\n",
      "To: /app/notebooks/secchi_depth1.nc\n",
      "100%|█████████████████████████████████████████| 622M/622M [00:04<00:00, 145MB/s]\n"
     ]
    }
   ],
   "source": [
    "!gdown 1-2Jz6QSQ4tqXRM6eDRhcMiffU6GA04_9"
   ]
  },
  {
   "cell_type": "code",
   "execution_count": 3,
   "id": "d879c0cd-22e0-4bbc-88d9-2e1d2ed8515c",
   "metadata": {},
   "outputs": [],
   "source": [
    "import netCDF4 as nc\n",
    "import xarray as xr"
   ]
  },
  {
   "cell_type": "code",
   "execution_count": 4,
   "id": "b270f515-b009-404b-813e-b5a5bc1ba660",
   "metadata": {},
   "outputs": [],
   "source": [
    "DS = xr.open_dataset('/app/notebooks/secchi_depth1.nc')\n",
    "df = DS.to_dataframe().reset_index()"
   ]
  },
  {
   "cell_type": "code",
   "execution_count": 5,
   "id": "ee7f59a9-ea62-4a01-9524-70628fdf6e84",
   "metadata": {},
   "outputs": [
    {
     "data": {
      "text/plain": [
       "66.04972167105771"
      ]
     },
     "execution_count": 5,
     "metadata": {},
     "output_type": "execute_result"
    }
   ],
   "source": [
    "len(df[~df['ZSD'].isna()]) / len(df['ZSD']) * 100"
   ]
  },
  {
   "cell_type": "code",
   "execution_count": 6,
   "id": "8b69d4ac-1abc-4351-a3a0-04ae52bcfc1e",
   "metadata": {},
   "outputs": [
    {
     "data": {
      "text/plain": [
       "47875905"
      ]
     },
     "execution_count": 6,
     "metadata": {},
     "output_type": "execute_result"
    }
   ],
   "source": [
    "len(df)"
   ]
  },
  {
   "cell_type": "code",
   "execution_count": 7,
   "id": "f7353b8f-c4ad-4489-b62b-0e59963efcb9",
   "metadata": {},
   "outputs": [
    {
     "data": {
      "text/html": [
       "<div>\n",
       "<style scoped>\n",
       "    .dataframe tbody tr th:only-of-type {\n",
       "        vertical-align: middle;\n",
       "    }\n",
       "\n",
       "    .dataframe tbody tr th {\n",
       "        vertical-align: top;\n",
       "    }\n",
       "\n",
       "    .dataframe thead th {\n",
       "        text-align: right;\n",
       "    }\n",
       "</style>\n",
       "<table border=\"1\" class=\"dataframe\">\n",
       "  <thead>\n",
       "    <tr style=\"text-align: right;\">\n",
       "      <th></th>\n",
       "      <th>time</th>\n",
       "      <th>lat</th>\n",
       "      <th>lon</th>\n",
       "      <th>KD490</th>\n",
       "      <th>ZSD_uncertainty</th>\n",
       "      <th>KD490_uncertainty</th>\n",
       "      <th>flags</th>\n",
       "      <th>ZSD</th>\n",
       "    </tr>\n",
       "  </thead>\n",
       "  <tbody>\n",
       "    <tr>\n",
       "      <th>12706</th>\n",
       "      <td>2022-01-31</td>\n",
       "      <td>60.645832</td>\n",
       "      <td>-11.979161</td>\n",
       "      <td>0.037945</td>\n",
       "      <td>42.270000</td>\n",
       "      <td>50.930000</td>\n",
       "      <td>2</td>\n",
       "      <td>24.907763</td>\n",
       "    </tr>\n",
       "    <tr>\n",
       "      <th>12707</th>\n",
       "      <td>2022-01-31</td>\n",
       "      <td>60.645832</td>\n",
       "      <td>-11.937495</td>\n",
       "      <td>0.036867</td>\n",
       "      <td>32.759998</td>\n",
       "      <td>51.349998</td>\n",
       "      <td>2</td>\n",
       "      <td>25.852074</td>\n",
       "    </tr>\n",
       "    <tr>\n",
       "      <th>12708</th>\n",
       "      <td>2022-01-31</td>\n",
       "      <td>60.645832</td>\n",
       "      <td>-11.895828</td>\n",
       "      <td>0.036754</td>\n",
       "      <td>32.730000</td>\n",
       "      <td>51.389999</td>\n",
       "      <td>2</td>\n",
       "      <td>25.955410</td>\n",
       "    </tr>\n",
       "    <tr>\n",
       "      <th>12709</th>\n",
       "      <td>2022-01-31</td>\n",
       "      <td>60.645832</td>\n",
       "      <td>-11.854161</td>\n",
       "      <td>0.036599</td>\n",
       "      <td>32.700001</td>\n",
       "      <td>51.459999</td>\n",
       "      <td>2</td>\n",
       "      <td>26.099274</td>\n",
       "    </tr>\n",
       "    <tr>\n",
       "      <th>12710</th>\n",
       "      <td>2022-01-31</td>\n",
       "      <td>60.645832</td>\n",
       "      <td>-11.812495</td>\n",
       "      <td>0.036487</td>\n",
       "      <td>32.869999</td>\n",
       "      <td>51.500000</td>\n",
       "      <td>2</td>\n",
       "      <td>26.203756</td>\n",
       "    </tr>\n",
       "    <tr>\n",
       "      <th>...</th>\n",
       "      <td>...</td>\n",
       "      <td>...</td>\n",
       "      <td>...</td>\n",
       "      <td>...</td>\n",
       "      <td>...</td>\n",
       "      <td>...</td>\n",
       "      <td>...</td>\n",
       "      <td>...</td>\n",
       "    </tr>\n",
       "    <tr>\n",
       "      <th>47875693</th>\n",
       "      <td>2023-02-03</td>\n",
       "      <td>48.020832</td>\n",
       "      <td>-4.812495</td>\n",
       "      <td>0.049792</td>\n",
       "      <td>40.180000</td>\n",
       "      <td>40.180000</td>\n",
       "      <td>2</td>\n",
       "      <td>17.821667</td>\n",
       "    </tr>\n",
       "    <tr>\n",
       "      <th>47875694</th>\n",
       "      <td>2023-02-03</td>\n",
       "      <td>48.020832</td>\n",
       "      <td>-4.770828</td>\n",
       "      <td>0.049806</td>\n",
       "      <td>43.590000</td>\n",
       "      <td>43.590000</td>\n",
       "      <td>2</td>\n",
       "      <td>17.815825</td>\n",
       "    </tr>\n",
       "    <tr>\n",
       "      <th>47875695</th>\n",
       "      <td>2023-02-03</td>\n",
       "      <td>48.020832</td>\n",
       "      <td>-4.729161</td>\n",
       "      <td>0.052929</td>\n",
       "      <td>45.419998</td>\n",
       "      <td>45.419998</td>\n",
       "      <td>2</td>\n",
       "      <td>16.573771</td>\n",
       "    </tr>\n",
       "    <tr>\n",
       "      <th>47875696</th>\n",
       "      <td>2023-02-03</td>\n",
       "      <td>48.020832</td>\n",
       "      <td>-4.687495</td>\n",
       "      <td>0.056396</td>\n",
       "      <td>43.230000</td>\n",
       "      <td>43.230000</td>\n",
       "      <td>2</td>\n",
       "      <td>15.379833</td>\n",
       "    </tr>\n",
       "    <tr>\n",
       "      <th>47875697</th>\n",
       "      <td>2023-02-03</td>\n",
       "      <td>48.020832</td>\n",
       "      <td>-4.645828</td>\n",
       "      <td>0.058033</td>\n",
       "      <td>41.919998</td>\n",
       "      <td>41.919998</td>\n",
       "      <td>2</td>\n",
       "      <td>14.872231</td>\n",
       "    </tr>\n",
       "  </tbody>\n",
       "</table>\n",
       "<p>31404315 rows × 8 columns</p>\n",
       "</div>"
      ],
      "text/plain": [
       "               time        lat        lon     KD490  ZSD_uncertainty  \\\n",
       "12706    2022-01-31  60.645832 -11.979161  0.037945        42.270000   \n",
       "12707    2022-01-31  60.645832 -11.937495  0.036867        32.759998   \n",
       "12708    2022-01-31  60.645832 -11.895828  0.036754        32.730000   \n",
       "12709    2022-01-31  60.645832 -11.854161  0.036599        32.700001   \n",
       "12710    2022-01-31  60.645832 -11.812495  0.036487        32.869999   \n",
       "...             ...        ...        ...       ...              ...   \n",
       "47875693 2023-02-03  48.020832  -4.812495  0.049792        40.180000   \n",
       "47875694 2023-02-03  48.020832  -4.770828  0.049806        43.590000   \n",
       "47875695 2023-02-03  48.020832  -4.729161  0.052929        45.419998   \n",
       "47875696 2023-02-03  48.020832  -4.687495  0.056396        43.230000   \n",
       "47875697 2023-02-03  48.020832  -4.645828  0.058033        41.919998   \n",
       "\n",
       "          KD490_uncertainty  flags        ZSD  \n",
       "12706             50.930000      2  24.907763  \n",
       "12707             51.349998      2  25.852074  \n",
       "12708             51.389999      2  25.955410  \n",
       "12709             51.459999      2  26.099274  \n",
       "12710             51.500000      2  26.203756  \n",
       "...                     ...    ...        ...  \n",
       "47875693          40.180000      2  17.821667  \n",
       "47875694          43.590000      2  17.815825  \n",
       "47875695          45.419998      2  16.573771  \n",
       "47875696          43.230000      2  15.379833  \n",
       "47875697          41.919998      2  14.872231  \n",
       "\n",
       "[31404315 rows x 8 columns]"
      ]
     },
     "execution_count": 7,
     "metadata": {},
     "output_type": "execute_result"
    }
   ],
   "source": [
    "df = df[(df['lat'] > 48) & (df['lat'] < 62) & (df['lon'] > -12) & (df['lon'] < 4)]\n",
    "df = df[~df['ZSD'].isna()]\n",
    "df"
   ]
  },
  {
   "cell_type": "code",
   "execution_count": 8,
   "id": "46bc0c2f-8423-4bf3-8f16-7e75cc0de4ec",
   "metadata": {},
   "outputs": [
    {
     "data": {
      "text/plain": [
       "(55.38801216443074, -4.509755215512939)"
      ]
     },
     "execution_count": 8,
     "metadata": {},
     "output_type": "execute_result"
    }
   ],
   "source": [
    "df.lat.mean(), df.lon.mean()"
   ]
  },
  {
   "cell_type": "code",
   "execution_count": 9,
   "id": "349e1e1e-b636-4219-ad65-38f6fce6b450",
   "metadata": {},
   "outputs": [
    {
     "data": {
      "text/html": [
       "<div>\n",
       "<style scoped>\n",
       "    .dataframe tbody tr th:only-of-type {\n",
       "        vertical-align: middle;\n",
       "    }\n",
       "\n",
       "    .dataframe tbody tr th {\n",
       "        vertical-align: top;\n",
       "    }\n",
       "\n",
       "    .dataframe thead th {\n",
       "        text-align: right;\n",
       "    }\n",
       "</style>\n",
       "<table border=\"1\" class=\"dataframe\">\n",
       "  <thead>\n",
       "    <tr style=\"text-align: right;\">\n",
       "      <th></th>\n",
       "      <th>time</th>\n",
       "      <th>lat</th>\n",
       "      <th>lon</th>\n",
       "      <th>KD490</th>\n",
       "      <th>ZSD_uncertainty</th>\n",
       "      <th>KD490_uncertainty</th>\n",
       "      <th>flags</th>\n",
       "      <th>ZSD</th>\n",
       "      <th>norm_ZSD</th>\n",
       "    </tr>\n",
       "  </thead>\n",
       "  <tbody>\n",
       "    <tr>\n",
       "      <th>12706</th>\n",
       "      <td>2022-01-31</td>\n",
       "      <td>60.645832</td>\n",
       "      <td>-11.979161</td>\n",
       "      <td>0.037945</td>\n",
       "      <td>42.270000</td>\n",
       "      <td>50.930000</td>\n",
       "      <td>2</td>\n",
       "      <td>24.907763</td>\n",
       "      <td>0.578687</td>\n",
       "    </tr>\n",
       "    <tr>\n",
       "      <th>12707</th>\n",
       "      <td>2022-01-31</td>\n",
       "      <td>60.645832</td>\n",
       "      <td>-11.937495</td>\n",
       "      <td>0.036867</td>\n",
       "      <td>32.759998</td>\n",
       "      <td>51.349998</td>\n",
       "      <td>2</td>\n",
       "      <td>25.852074</td>\n",
       "      <td>0.600626</td>\n",
       "    </tr>\n",
       "    <tr>\n",
       "      <th>12708</th>\n",
       "      <td>2022-01-31</td>\n",
       "      <td>60.645832</td>\n",
       "      <td>-11.895828</td>\n",
       "      <td>0.036754</td>\n",
       "      <td>32.730000</td>\n",
       "      <td>51.389999</td>\n",
       "      <td>2</td>\n",
       "      <td>25.955410</td>\n",
       "      <td>0.603027</td>\n",
       "    </tr>\n",
       "    <tr>\n",
       "      <th>12709</th>\n",
       "      <td>2022-01-31</td>\n",
       "      <td>60.645832</td>\n",
       "      <td>-11.854161</td>\n",
       "      <td>0.036599</td>\n",
       "      <td>32.700001</td>\n",
       "      <td>51.459999</td>\n",
       "      <td>2</td>\n",
       "      <td>26.099274</td>\n",
       "      <td>0.606370</td>\n",
       "    </tr>\n",
       "    <tr>\n",
       "      <th>12710</th>\n",
       "      <td>2022-01-31</td>\n",
       "      <td>60.645832</td>\n",
       "      <td>-11.812495</td>\n",
       "      <td>0.036487</td>\n",
       "      <td>32.869999</td>\n",
       "      <td>51.500000</td>\n",
       "      <td>2</td>\n",
       "      <td>26.203756</td>\n",
       "      <td>0.608797</td>\n",
       "    </tr>\n",
       "    <tr>\n",
       "      <th>...</th>\n",
       "      <td>...</td>\n",
       "      <td>...</td>\n",
       "      <td>...</td>\n",
       "      <td>...</td>\n",
       "      <td>...</td>\n",
       "      <td>...</td>\n",
       "      <td>...</td>\n",
       "      <td>...</td>\n",
       "      <td>...</td>\n",
       "    </tr>\n",
       "    <tr>\n",
       "      <th>47875693</th>\n",
       "      <td>2023-02-03</td>\n",
       "      <td>48.020832</td>\n",
       "      <td>-4.812495</td>\n",
       "      <td>0.049792</td>\n",
       "      <td>40.180000</td>\n",
       "      <td>40.180000</td>\n",
       "      <td>2</td>\n",
       "      <td>17.821667</td>\n",
       "      <td>0.414054</td>\n",
       "    </tr>\n",
       "    <tr>\n",
       "      <th>47875694</th>\n",
       "      <td>2023-02-03</td>\n",
       "      <td>48.020832</td>\n",
       "      <td>-4.770828</td>\n",
       "      <td>0.049806</td>\n",
       "      <td>43.590000</td>\n",
       "      <td>43.590000</td>\n",
       "      <td>2</td>\n",
       "      <td>17.815825</td>\n",
       "      <td>0.413919</td>\n",
       "    </tr>\n",
       "    <tr>\n",
       "      <th>47875695</th>\n",
       "      <td>2023-02-03</td>\n",
       "      <td>48.020832</td>\n",
       "      <td>-4.729161</td>\n",
       "      <td>0.052929</td>\n",
       "      <td>45.419998</td>\n",
       "      <td>45.419998</td>\n",
       "      <td>2</td>\n",
       "      <td>16.573771</td>\n",
       "      <td>0.385062</td>\n",
       "    </tr>\n",
       "    <tr>\n",
       "      <th>47875696</th>\n",
       "      <td>2023-02-03</td>\n",
       "      <td>48.020832</td>\n",
       "      <td>-4.687495</td>\n",
       "      <td>0.056396</td>\n",
       "      <td>43.230000</td>\n",
       "      <td>43.230000</td>\n",
       "      <td>2</td>\n",
       "      <td>15.379833</td>\n",
       "      <td>0.357323</td>\n",
       "    </tr>\n",
       "    <tr>\n",
       "      <th>47875697</th>\n",
       "      <td>2023-02-03</td>\n",
       "      <td>48.020832</td>\n",
       "      <td>-4.645828</td>\n",
       "      <td>0.058033</td>\n",
       "      <td>41.919998</td>\n",
       "      <td>41.919998</td>\n",
       "      <td>2</td>\n",
       "      <td>14.872231</td>\n",
       "      <td>0.345530</td>\n",
       "    </tr>\n",
       "  </tbody>\n",
       "</table>\n",
       "<p>31404315 rows × 9 columns</p>\n",
       "</div>"
      ],
      "text/plain": [
       "               time        lat        lon     KD490  ZSD_uncertainty  \\\n",
       "12706    2022-01-31  60.645832 -11.979161  0.037945        42.270000   \n",
       "12707    2022-01-31  60.645832 -11.937495  0.036867        32.759998   \n",
       "12708    2022-01-31  60.645832 -11.895828  0.036754        32.730000   \n",
       "12709    2022-01-31  60.645832 -11.854161  0.036599        32.700001   \n",
       "12710    2022-01-31  60.645832 -11.812495  0.036487        32.869999   \n",
       "...             ...        ...        ...       ...              ...   \n",
       "47875693 2023-02-03  48.020832  -4.812495  0.049792        40.180000   \n",
       "47875694 2023-02-03  48.020832  -4.770828  0.049806        43.590000   \n",
       "47875695 2023-02-03  48.020832  -4.729161  0.052929        45.419998   \n",
       "47875696 2023-02-03  48.020832  -4.687495  0.056396        43.230000   \n",
       "47875697 2023-02-03  48.020832  -4.645828  0.058033        41.919998   \n",
       "\n",
       "          KD490_uncertainty  flags        ZSD  norm_ZSD  \n",
       "12706             50.930000      2  24.907763  0.578687  \n",
       "12707             51.349998      2  25.852074  0.600626  \n",
       "12708             51.389999      2  25.955410  0.603027  \n",
       "12709             51.459999      2  26.099274  0.606370  \n",
       "12710             51.500000      2  26.203756  0.608797  \n",
       "...                     ...    ...        ...       ...  \n",
       "47875693          40.180000      2  17.821667  0.414054  \n",
       "47875694          43.590000      2  17.815825  0.413919  \n",
       "47875695          45.419998      2  16.573771  0.385062  \n",
       "47875696          43.230000      2  15.379833  0.357323  \n",
       "47875697          41.919998      2  14.872231  0.345530  \n",
       "\n",
       "[31404315 rows x 9 columns]"
      ]
     },
     "execution_count": 9,
     "metadata": {},
     "output_type": "execute_result"
    }
   ],
   "source": [
    "df['norm_ZSD'] = df['ZSD'] / df['ZSD'].max()\n",
    "df"
   ]
  },
  {
   "cell_type": "code",
   "execution_count": 10,
   "id": "6fe94c64-7bb5-40ec-b8b4-9a497b77d627",
   "metadata": {},
   "outputs": [],
   "source": [
    "def raw2tensor(df):\n",
    "    lon_arr = df['lon'].unique()\n",
    "    lat_arr = df['lat'].unique()\n",
    "    time_arr = df['time'].unique()\n",
    "    \n",
    "    lon_ids = {}\n",
    "    lat_ids = {}\n",
    "    time_ids = {}\n",
    "    for i, lon in enumerate(lon_arr):\n",
    "        lon_ids[lon] = i\n",
    "    for i, lat in enumerate(lat_arr):\n",
    "        lat_ids[lat] = i\n",
    "    for i, date in enumerate(time_arr):\n",
    "        time_ids[str(date)[:10]] = i\n",
    "    df['x'] = df['lat'].apply(lambda x: lat_ids[x])\n",
    "    df['y'] = df['lon'].apply(lambda x: lon_ids[x])\n",
    "    df['d'] = df['time'].apply(lambda x: time_ids[str(x)[:10]])\n",
    "    \n",
    "    x_img = np.zeros((df.d.max()+1, df.x.max()+1, df.y.max()+1))\n",
    "    x_img[df.d, df.x, df.y] = df.norm_ZSD\n",
    "    \n",
    "    zsd_tensor = torch.tensor(x_img).unsqueeze(1)\n",
    "    return zsd_tensor"
   ]
  },
  {
   "cell_type": "code",
   "execution_count": 11,
   "id": "e81c9324-3c49-46cf-ada0-09e7432fd597",
   "metadata": {},
   "outputs": [],
   "source": [
    "zsd_tensor = raw2tensor(df)"
   ]
  },
  {
   "cell_type": "code",
   "execution_count": 12,
   "id": "466e2413-72aa-46a1-8432-e558ae835131",
   "metadata": {},
   "outputs": [
    {
     "data": {
      "text/plain": [
       "tensor[1, 336, 384] f64 n=129024 x∈[0., 1.000] μ=0.243 σ=0.246"
      ]
     },
     "execution_count": 12,
     "metadata": {},
     "output_type": "execute_result"
    }
   ],
   "source": [
    "zsd_tensor[0]"
   ]
  },
  {
   "cell_type": "code",
   "execution_count": 13,
   "id": "2b7051f2-af09-4518-8e6b-7b8cfb522455",
   "metadata": {},
   "outputs": [
    {
     "data": {
      "image/png": "[encoded data removed]",
      "text/plain": [
       "<lovely_tensors.repr_rgb.RGBProxy at 0x7f8a925f1c40>"
      ]
     },
     "execution_count": 13,
     "metadata": {},
     "output_type": "execute_result"
    }
   ],
   "source": [
    "zsd_tensor[0].expand((3, 336, 384))[:,:,:].rgb"
   ]
  },
  {
   "cell_type": "code",
   "execution_count": 155,
   "id": "8433c601-e30b-4f67-ab03-4604f573c1f8",
   "metadata": {},
   "outputs": [
    {
     "data": {
      "text/plain": [
       "0         62.020832\n",
       "1         62.020832\n",
       "2         62.020832\n",
       "3         62.020832\n",
       "4         62.020832\n",
       "            ...    \n",
       "129740    48.020832\n",
       "129741    48.020832\n",
       "129742    48.020832\n",
       "129743    48.020832\n",
       "129744    48.020832\n",
       "Name: lat, Length: 129745, dtype: float64"
      ]
     },
     "execution_count": 155,
     "metadata": {},
     "output_type": "execute_result"
    }
   ],
   "source": [
    "df[df['time'] == '2022-01-31']['lat']"
   ]
  },
  {
   "cell_type": "code",
   "execution_count": 137,
   "id": "27d1a9ec-2bc6-48d9-ae29-8da021d6dace",
   "metadata": {},
   "outputs": [
    {
     "data": {
      "text/html": [
       "<div>\n",
       "<style scoped>\n",
       "    .dataframe tbody tr th:only-of-type {\n",
       "        vertical-align: middle;\n",
       "    }\n",
       "\n",
       "    .dataframe tbody tr th {\n",
       "        vertical-align: top;\n",
       "    }\n",
       "\n",
       "    .dataframe thead th {\n",
       "        text-align: right;\n",
       "    }\n",
       "</style>\n",
       "<table border=\"1\" class=\"dataframe\">\n",
       "  <thead>\n",
       "    <tr style=\"text-align: right;\">\n",
       "      <th></th>\n",
       "      <th>time</th>\n",
       "      <th>lat</th>\n",
       "      <th>lon</th>\n",
       "      <th>KD490</th>\n",
       "      <th>ZSD_uncertainty</th>\n",
       "      <th>KD490_uncertainty</th>\n",
       "      <th>flags</th>\n",
       "      <th>ZSD</th>\n",
       "    </tr>\n",
       "  </thead>\n",
       "  <tbody>\n",
       "    <tr>\n",
       "      <th>12705</th>\n",
       "      <td>2022-01-31</td>\n",
       "      <td>60.645832</td>\n",
       "      <td>-12.020828</td>\n",
       "      <td>0.034284</td>\n",
       "      <td>48.610001</td>\n",
       "      <td>48.610001</td>\n",
       "      <td>2</td>\n",
       "      <td>28.456972</td>\n",
       "    </tr>\n",
       "    <tr>\n",
       "      <th>12706</th>\n",
       "      <td>2022-01-31</td>\n",
       "      <td>60.645832</td>\n",
       "      <td>-11.979161</td>\n",
       "      <td>0.037945</td>\n",
       "      <td>42.270000</td>\n",
       "      <td>50.930000</td>\n",
       "      <td>2</td>\n",
       "      <td>24.907763</td>\n",
       "    </tr>\n",
       "    <tr>\n",
       "      <th>12707</th>\n",
       "      <td>2022-01-31</td>\n",
       "      <td>60.645832</td>\n",
       "      <td>-11.937495</td>\n",
       "      <td>0.036867</td>\n",
       "      <td>32.759998</td>\n",
       "      <td>51.349998</td>\n",
       "      <td>2</td>\n",
       "      <td>25.852074</td>\n",
       "    </tr>\n",
       "    <tr>\n",
       "      <th>12708</th>\n",
       "      <td>2022-01-31</td>\n",
       "      <td>60.645832</td>\n",
       "      <td>-11.895828</td>\n",
       "      <td>0.036754</td>\n",
       "      <td>32.730000</td>\n",
       "      <td>51.389999</td>\n",
       "      <td>2</td>\n",
       "      <td>25.955410</td>\n",
       "    </tr>\n",
       "    <tr>\n",
       "      <th>12709</th>\n",
       "      <td>2022-01-31</td>\n",
       "      <td>60.645832</td>\n",
       "      <td>-11.854161</td>\n",
       "      <td>0.036599</td>\n",
       "      <td>32.700001</td>\n",
       "      <td>51.459999</td>\n",
       "      <td>2</td>\n",
       "      <td>26.099274</td>\n",
       "    </tr>\n",
       "    <tr>\n",
       "      <th>...</th>\n",
       "      <td>...</td>\n",
       "      <td>...</td>\n",
       "      <td>...</td>\n",
       "      <td>...</td>\n",
       "      <td>...</td>\n",
       "      <td>...</td>\n",
       "      <td>...</td>\n",
       "      <td>...</td>\n",
       "    </tr>\n",
       "    <tr>\n",
       "      <th>47356713</th>\n",
       "      <td>2023-01-30</td>\n",
       "      <td>48.020832</td>\n",
       "      <td>-4.812495</td>\n",
       "      <td>0.056629</td>\n",
       "      <td>31.139999</td>\n",
       "      <td>39.549999</td>\n",
       "      <td>2</td>\n",
       "      <td>15.305375</td>\n",
       "    </tr>\n",
       "    <tr>\n",
       "      <th>47356714</th>\n",
       "      <td>2023-01-30</td>\n",
       "      <td>48.020832</td>\n",
       "      <td>-4.770828</td>\n",
       "      <td>0.057298</td>\n",
       "      <td>31.279999</td>\n",
       "      <td>39.379997</td>\n",
       "      <td>2</td>\n",
       "      <td>15.096004</td>\n",
       "    </tr>\n",
       "    <tr>\n",
       "      <th>47356715</th>\n",
       "      <td>2023-01-30</td>\n",
       "      <td>48.020832</td>\n",
       "      <td>-4.729161</td>\n",
       "      <td>0.057889</td>\n",
       "      <td>31.400000</td>\n",
       "      <td>39.230000</td>\n",
       "      <td>2</td>\n",
       "      <td>14.915576</td>\n",
       "    </tr>\n",
       "    <tr>\n",
       "      <th>47356716</th>\n",
       "      <td>2023-01-30</td>\n",
       "      <td>48.020832</td>\n",
       "      <td>-4.687495</td>\n",
       "      <td>0.060162</td>\n",
       "      <td>31.859999</td>\n",
       "      <td>38.669998</td>\n",
       "      <td>2</td>\n",
       "      <td>14.258415</td>\n",
       "    </tr>\n",
       "    <tr>\n",
       "      <th>47356717</th>\n",
       "      <td>2023-01-30</td>\n",
       "      <td>48.020832</td>\n",
       "      <td>-4.645828</td>\n",
       "      <td>0.058898</td>\n",
       "      <td>31.599998</td>\n",
       "      <td>38.980000</td>\n",
       "      <td>2</td>\n",
       "      <td>14.616708</td>\n",
       "    </tr>\n",
       "  </tbody>\n",
       "</table>\n",
       "<p>31275133 rows × 8 columns</p>\n",
       "</div>"
      ],
      "text/plain": [
       "               time        lat        lon     KD490  ZSD_uncertainty  \\\n",
       "12705    2022-01-31  60.645832 -12.020828  0.034284        48.610001   \n",
       "12706    2022-01-31  60.645832 -11.979161  0.037945        42.270000   \n",
       "12707    2022-01-31  60.645832 -11.937495  0.036867        32.759998   \n",
       "12708    2022-01-31  60.645832 -11.895828  0.036754        32.730000   \n",
       "12709    2022-01-31  60.645832 -11.854161  0.036599        32.700001   \n",
       "...             ...        ...        ...       ...              ...   \n",
       "47356713 2023-01-30  48.020832  -4.812495  0.056629        31.139999   \n",
       "47356714 2023-01-30  48.020832  -4.770828  0.057298        31.279999   \n",
       "47356715 2023-01-30  48.020832  -4.729161  0.057889        31.400000   \n",
       "47356716 2023-01-30  48.020832  -4.687495  0.060162        31.859999   \n",
       "47356717 2023-01-30  48.020832  -4.645828  0.058898        31.599998   \n",
       "\n",
       "          KD490_uncertainty  flags        ZSD  \n",
       "12705             48.610001      2  28.456972  \n",
       "12706             50.930000      2  24.907763  \n",
       "12707             51.349998      2  25.852074  \n",
       "12708             51.389999      2  25.955410  \n",
       "12709             51.459999      2  26.099274  \n",
       "...                     ...    ...        ...  \n",
       "47356713          39.549999      2  15.305375  \n",
       "47356714          39.379997      2  15.096004  \n",
       "47356715          39.230000      2  14.915576  \n",
       "47356716          38.669998      2  14.258415  \n",
       "47356717          38.980000      2  14.616708  \n",
       "\n",
       "[31275133 rows x 8 columns]"
      ]
     },
     "execution_count": 137,
     "metadata": {},
     "output_type": "execute_result"
    }
   ],
   "source": [
    "year_df = df[df['time'] < '2023-01-31']\n",
    "year_df[~year_df['ZSD'].isna()]"
   ]
  },
  {
   "cell_type": "code",
   "execution_count": 159,
   "id": "3b69efc6-d630-40b3-9c9d-75e3a4f73628",
   "metadata": {},
   "outputs": [
    {
     "data": {
      "text/html": [
       "<div>\n",
       "<style scoped>\n",
       "    .dataframe tbody tr th:only-of-type {\n",
       "        vertical-align: middle;\n",
       "    }\n",
       "\n",
       "    .dataframe tbody tr th {\n",
       "        vertical-align: top;\n",
       "    }\n",
       "\n",
       "    .dataframe thead th {\n",
       "        text-align: right;\n",
       "    }\n",
       "</style>\n",
       "<table border=\"1\" class=\"dataframe\">\n",
       "  <thead>\n",
       "    <tr style=\"text-align: right;\">\n",
       "      <th></th>\n",
       "      <th>lat</th>\n",
       "      <th>lon</th>\n",
       "    </tr>\n",
       "    <tr>\n",
       "      <th>time</th>\n",
       "      <th></th>\n",
       "      <th></th>\n",
       "    </tr>\n",
       "  </thead>\n",
       "  <tbody>\n",
       "    <tr>\n",
       "      <th>2022-01-31</th>\n",
       "      <td>337</td>\n",
       "      <td>385</td>\n",
       "    </tr>\n",
       "    <tr>\n",
       "      <th>2022-02-01</th>\n",
       "      <td>337</td>\n",
       "      <td>385</td>\n",
       "    </tr>\n",
       "    <tr>\n",
       "      <th>2022-02-02</th>\n",
       "      <td>337</td>\n",
       "      <td>385</td>\n",
       "    </tr>\n",
       "    <tr>\n",
       "      <th>2022-02-03</th>\n",
       "      <td>337</td>\n",
       "      <td>385</td>\n",
       "    </tr>\n",
       "    <tr>\n",
       "      <th>2022-02-04</th>\n",
       "      <td>337</td>\n",
       "      <td>385</td>\n",
       "    </tr>\n",
       "    <tr>\n",
       "      <th>...</th>\n",
       "      <td>...</td>\n",
       "      <td>...</td>\n",
       "    </tr>\n",
       "    <tr>\n",
       "      <th>2023-01-26</th>\n",
       "      <td>337</td>\n",
       "      <td>385</td>\n",
       "    </tr>\n",
       "    <tr>\n",
       "      <th>2023-01-27</th>\n",
       "      <td>337</td>\n",
       "      <td>385</td>\n",
       "    </tr>\n",
       "    <tr>\n",
       "      <th>2023-01-28</th>\n",
       "      <td>337</td>\n",
       "      <td>385</td>\n",
       "    </tr>\n",
       "    <tr>\n",
       "      <th>2023-01-29</th>\n",
       "      <td>337</td>\n",
       "      <td>385</td>\n",
       "    </tr>\n",
       "    <tr>\n",
       "      <th>2023-01-30</th>\n",
       "      <td>337</td>\n",
       "      <td>385</td>\n",
       "    </tr>\n",
       "  </tbody>\n",
       "</table>\n",
       "<p>365 rows × 2 columns</p>\n",
       "</div>"
      ],
      "text/plain": [
       "            lat  lon\n",
       "time                \n",
       "2022-01-31  337  385\n",
       "2022-02-01  337  385\n",
       "2022-02-02  337  385\n",
       "2022-02-03  337  385\n",
       "2022-02-04  337  385\n",
       "...         ...  ...\n",
       "2023-01-26  337  385\n",
       "2023-01-27  337  385\n",
       "2023-01-28  337  385\n",
       "2023-01-29  337  385\n",
       "2023-01-30  337  385\n",
       "\n",
       "[365 rows x 2 columns]"
      ]
     },
     "execution_count": 159,
     "metadata": {},
     "output_type": "execute_result"
    }
   ],
   "source": [
    "year_df[['time', 'lat', 'lon']].groupby('time').nunique()"
   ]
  },
  {
   "cell_type": "code",
   "execution_count": 78,
   "id": "c4b441ef-8aec-45bd-b602-5d349b787cc4",
   "metadata": {},
   "outputs": [
    {
     "data": {
      "text/plain": [
       "(384, 336, 369, 47609856)"
      ]
     },
     "execution_count": 78,
     "metadata": {},
     "output_type": "execute_result"
    }
   ],
   "source": [
    "#SETUP IMAGE RESOLUTION\n",
    "W = df['lon'].nunique()\n",
    "H = df['lat'].nunique()\n",
    "D = df['time'].nunique()\n",
    "W, H, D, W*H*D"
   ]
  },
  {
   "cell_type": "code",
   "execution_count": 237,
   "id": "b49ee436-a306-413b-8e65-d6c6376353d7",
   "metadata": {},
   "outputs": [],
   "source": [
    "day_df = df[df['time'] == '2023-01-30']"
   ]
  },
  {
   "cell_type": "code",
   "execution_count": 239,
   "id": "7a5319f4-c85e-40ca-afbb-378a0a148239",
   "metadata": {},
   "outputs": [
    {
     "data": {
      "text/html": [
       "<div>\n",
       "<style scoped>\n",
       "    .dataframe tbody tr th:only-of-type {\n",
       "        vertical-align: middle;\n",
       "    }\n",
       "\n",
       "    .dataframe tbody tr th {\n",
       "        vertical-align: top;\n",
       "    }\n",
       "\n",
       "    .dataframe thead th {\n",
       "        text-align: right;\n",
       "    }\n",
       "</style>\n",
       "<table border=\"1\" class=\"dataframe\">\n",
       "  <thead>\n",
       "    <tr style=\"text-align: right;\">\n",
       "      <th></th>\n",
       "      <th>time</th>\n",
       "      <th>lat</th>\n",
       "      <th>lon</th>\n",
       "      <th>KD490</th>\n",
       "      <th>ZSD_uncertainty</th>\n",
       "      <th>KD490_uncertainty</th>\n",
       "      <th>flags</th>\n",
       "      <th>ZSD</th>\n",
       "      <th>norm_ZSD</th>\n",
       "    </tr>\n",
       "  </thead>\n",
       "  <tbody>\n",
       "    <tr>\n",
       "      <th>47227180</th>\n",
       "      <td>2023-01-30</td>\n",
       "      <td>62.020832</td>\n",
       "      <td>-12.020828</td>\n",
       "      <td>NaN</td>\n",
       "      <td>NaN</td>\n",
       "      <td>NaN</td>\n",
       "      <td>0</td>\n",
       "      <td>NaN</td>\n",
       "      <td>NaN</td>\n",
       "    </tr>\n",
       "    <tr>\n",
       "      <th>47227181</th>\n",
       "      <td>2023-01-30</td>\n",
       "      <td>62.020832</td>\n",
       "      <td>-11.979161</td>\n",
       "      <td>NaN</td>\n",
       "      <td>NaN</td>\n",
       "      <td>NaN</td>\n",
       "      <td>0</td>\n",
       "      <td>NaN</td>\n",
       "      <td>NaN</td>\n",
       "    </tr>\n",
       "    <tr>\n",
       "      <th>47227182</th>\n",
       "      <td>2023-01-30</td>\n",
       "      <td>62.020832</td>\n",
       "      <td>-11.937495</td>\n",
       "      <td>NaN</td>\n",
       "      <td>NaN</td>\n",
       "      <td>NaN</td>\n",
       "      <td>0</td>\n",
       "      <td>NaN</td>\n",
       "      <td>NaN</td>\n",
       "    </tr>\n",
       "    <tr>\n",
       "      <th>47227183</th>\n",
       "      <td>2023-01-30</td>\n",
       "      <td>62.020832</td>\n",
       "      <td>-11.895828</td>\n",
       "      <td>NaN</td>\n",
       "      <td>NaN</td>\n",
       "      <td>NaN</td>\n",
       "      <td>0</td>\n",
       "      <td>NaN</td>\n",
       "      <td>NaN</td>\n",
       "    </tr>\n",
       "    <tr>\n",
       "      <th>47227184</th>\n",
       "      <td>2023-01-30</td>\n",
       "      <td>62.020832</td>\n",
       "      <td>-11.854161</td>\n",
       "      <td>NaN</td>\n",
       "      <td>NaN</td>\n",
       "      <td>NaN</td>\n",
       "      <td>0</td>\n",
       "      <td>NaN</td>\n",
       "      <td>NaN</td>\n",
       "    </tr>\n",
       "    <tr>\n",
       "      <th>...</th>\n",
       "      <td>...</td>\n",
       "      <td>...</td>\n",
       "      <td>...</td>\n",
       "      <td>...</td>\n",
       "      <td>...</td>\n",
       "      <td>...</td>\n",
       "      <td>...</td>\n",
       "      <td>...</td>\n",
       "      <td>...</td>\n",
       "    </tr>\n",
       "    <tr>\n",
       "      <th>47356920</th>\n",
       "      <td>2023-01-30</td>\n",
       "      <td>48.020832</td>\n",
       "      <td>3.812505</td>\n",
       "      <td>NaN</td>\n",
       "      <td>NaN</td>\n",
       "      <td>NaN</td>\n",
       "      <td>1</td>\n",
       "      <td>NaN</td>\n",
       "      <td>NaN</td>\n",
       "    </tr>\n",
       "    <tr>\n",
       "      <th>47356921</th>\n",
       "      <td>2023-01-30</td>\n",
       "      <td>48.020832</td>\n",
       "      <td>3.854172</td>\n",
       "      <td>NaN</td>\n",
       "      <td>NaN</td>\n",
       "      <td>NaN</td>\n",
       "      <td>1</td>\n",
       "      <td>NaN</td>\n",
       "      <td>NaN</td>\n",
       "    </tr>\n",
       "    <tr>\n",
       "      <th>47356922</th>\n",
       "      <td>2023-01-30</td>\n",
       "      <td>48.020832</td>\n",
       "      <td>3.895839</td>\n",
       "      <td>NaN</td>\n",
       "      <td>NaN</td>\n",
       "      <td>NaN</td>\n",
       "      <td>1</td>\n",
       "      <td>NaN</td>\n",
       "      <td>NaN</td>\n",
       "    </tr>\n",
       "    <tr>\n",
       "      <th>47356923</th>\n",
       "      <td>2023-01-30</td>\n",
       "      <td>48.020832</td>\n",
       "      <td>3.937505</td>\n",
       "      <td>NaN</td>\n",
       "      <td>NaN</td>\n",
       "      <td>NaN</td>\n",
       "      <td>1</td>\n",
       "      <td>NaN</td>\n",
       "      <td>NaN</td>\n",
       "    </tr>\n",
       "    <tr>\n",
       "      <th>47356924</th>\n",
       "      <td>2023-01-30</td>\n",
       "      <td>48.020832</td>\n",
       "      <td>3.979172</td>\n",
       "      <td>NaN</td>\n",
       "      <td>NaN</td>\n",
       "      <td>NaN</td>\n",
       "      <td>1</td>\n",
       "      <td>NaN</td>\n",
       "      <td>NaN</td>\n",
       "    </tr>\n",
       "  </tbody>\n",
       "</table>\n",
       "<p>129745 rows × 9 columns</p>\n",
       "</div>"
      ],
      "text/plain": [
       "               time        lat        lon  KD490  ZSD_uncertainty  \\\n",
       "47227180 2023-01-30  62.020832 -12.020828    NaN              NaN   \n",
       "47227181 2023-01-30  62.020832 -11.979161    NaN              NaN   \n",
       "47227182 2023-01-30  62.020832 -11.937495    NaN              NaN   \n",
       "47227183 2023-01-30  62.020832 -11.895828    NaN              NaN   \n",
       "47227184 2023-01-30  62.020832 -11.854161    NaN              NaN   \n",
       "...             ...        ...        ...    ...              ...   \n",
       "47356920 2023-01-30  48.020832   3.812505    NaN              NaN   \n",
       "47356921 2023-01-30  48.020832   3.854172    NaN              NaN   \n",
       "47356922 2023-01-30  48.020832   3.895839    NaN              NaN   \n",
       "47356923 2023-01-30  48.020832   3.937505    NaN              NaN   \n",
       "47356924 2023-01-30  48.020832   3.979172    NaN              NaN   \n",
       "\n",
       "          KD490_uncertainty  flags  ZSD  norm_ZSD  \n",
       "47227180                NaN      0  NaN       NaN  \n",
       "47227181                NaN      0  NaN       NaN  \n",
       "47227182                NaN      0  NaN       NaN  \n",
       "47227183                NaN      0  NaN       NaN  \n",
       "47227184                NaN      0  NaN       NaN  \n",
       "...                     ...    ...  ...       ...  \n",
       "47356920                NaN      1  NaN       NaN  \n",
       "47356921                NaN      1  NaN       NaN  \n",
       "47356922                NaN      1  NaN       NaN  \n",
       "47356923                NaN      1  NaN       NaN  \n",
       "47356924                NaN      1  NaN       NaN  \n",
       "\n",
       "[129745 rows x 9 columns]"
      ]
     },
     "execution_count": 239,
     "metadata": {},
     "output_type": "execute_result"
    }
   ],
   "source": [
    "day_df"
   ]
  },
  {
   "cell_type": "code",
   "execution_count": 240,
   "id": "d71ecd45-1d2f-46cc-a394-ea1cc66e2fab",
   "metadata": {},
   "outputs": [
    {
     "name": "stderr",
     "output_type": "stream",
     "text": [
      "/tmp/ipykernel_85/3339653982.py:1: SettingWithCopyWarning: \n",
      "A value is trying to be set on a copy of a slice from a DataFrame\n",
      "\n",
      "See the caveats in the documentation: https://pandas.pydata.org/pandas-docs/stable/user_guide/indexing.html#returning-a-view-versus-a-copy\n",
      "  day_df['norm_ZSD'].fillna(-1, inplace=True)\n"
     ]
    }
   ],
   "source": [
    "day_df['norm_ZSD'].fillna(-1, inplace=True)"
   ]
  },
  {
   "cell_type": "code",
   "execution_count": 79,
   "id": "7537607f-f756-460d-8833-8c170060c888",
   "metadata": {},
   "outputs": [],
   "source": [
    "lon_arr = df['lon'].unique()\n",
    "# lon_arr.sort()\n",
    "lat_arr = df['lat'].unique()\n",
    "time_arr = df['time'].unique()\n",
    "# lat_arr.sort()"
   ]
  },
  {
   "cell_type": "code",
   "execution_count": 271,
   "id": "ec1fffcb-0903-411f-befa-e2c3f4457f07",
   "metadata": {},
   "outputs": [
    {
     "data": {
      "text/plain": [
       "'2022-01-31'"
      ]
     },
     "execution_count": 271,
     "metadata": {},
     "output_type": "execute_result"
    }
   ],
   "source": [
    "str(time_arr[0])[:10]"
   ]
  },
  {
   "cell_type": "code",
   "execution_count": 80,
   "id": "51d4b36b-4d09-476f-a118-e4945090dc4b",
   "metadata": {},
   "outputs": [],
   "source": [
    "lon_ids = {}\n",
    "lat_ids = {}\n",
    "time_ids = {}\n",
    "for i, lon in enumerate(lon_arr):\n",
    "    lon_ids[lon] = i\n",
    "for i, lat in enumerate(lat_arr):\n",
    "    lat_ids[lat] = i\n",
    "for i, date in enumerate(time_arr):\n",
    "    time_ids[str(date)[:10]] = i"
   ]
  },
  {
   "cell_type": "code",
   "execution_count": 81,
   "id": "eb0abb3f-456a-4e42-bef9-57be5315e7d6",
   "metadata": {},
   "outputs": [],
   "source": [
    "df['x'] = df['lat'].apply(lambda x: lat_ids[x])\n",
    "df['y'] = df['lon'].apply(lambda x: lon_ids[x])\n",
    "df['d'] = df['time'].apply(lambda x: time_ids[str(x)[:10]])"
   ]
  },
  {
   "cell_type": "code",
   "execution_count": 278,
   "id": "98e355c2-9671-42fd-8623-1eb69fd841fe",
   "metadata": {},
   "outputs": [
    {
     "data": {
      "text/plain": [
       "'2022-01-31'"
      ]
     },
     "execution_count": 278,
     "metadata": {},
     "output_type": "execute_result"
    }
   ],
   "source": [
    "str(df['time'].unique()[0])[:10]"
   ]
  },
  {
   "cell_type": "code",
   "execution_count": 82,
   "id": "349f94ee-1290-42c2-a912-1efff7a7f16a",
   "metadata": {},
   "outputs": [
    {
     "data": {
      "text/html": [
       "<div>\n",
       "<style scoped>\n",
       "    .dataframe tbody tr th:only-of-type {\n",
       "        vertical-align: middle;\n",
       "    }\n",
       "\n",
       "    .dataframe tbody tr th {\n",
       "        vertical-align: top;\n",
       "    }\n",
       "\n",
       "    .dataframe thead th {\n",
       "        text-align: right;\n",
       "    }\n",
       "</style>\n",
       "<table border=\"1\" class=\"dataframe\">\n",
       "  <thead>\n",
       "    <tr style=\"text-align: right;\">\n",
       "      <th></th>\n",
       "      <th>d</th>\n",
       "      <th>x</th>\n",
       "      <th>y</th>\n",
       "      <th>norm_ZSD</th>\n",
       "    </tr>\n",
       "  </thead>\n",
       "  <tbody>\n",
       "    <tr>\n",
       "      <th>12706</th>\n",
       "      <td>0</td>\n",
       "      <td>0</td>\n",
       "      <td>0</td>\n",
       "      <td>0.578687</td>\n",
       "    </tr>\n",
       "    <tr>\n",
       "      <th>12707</th>\n",
       "      <td>0</td>\n",
       "      <td>0</td>\n",
       "      <td>1</td>\n",
       "      <td>0.600626</td>\n",
       "    </tr>\n",
       "    <tr>\n",
       "      <th>12708</th>\n",
       "      <td>0</td>\n",
       "      <td>0</td>\n",
       "      <td>2</td>\n",
       "      <td>0.603027</td>\n",
       "    </tr>\n",
       "    <tr>\n",
       "      <th>12709</th>\n",
       "      <td>0</td>\n",
       "      <td>0</td>\n",
       "      <td>3</td>\n",
       "      <td>0.606370</td>\n",
       "    </tr>\n",
       "    <tr>\n",
       "      <th>12710</th>\n",
       "      <td>0</td>\n",
       "      <td>0</td>\n",
       "      <td>4</td>\n",
       "      <td>0.608797</td>\n",
       "    </tr>\n",
       "    <tr>\n",
       "      <th>...</th>\n",
       "      <td>...</td>\n",
       "      <td>...</td>\n",
       "      <td>...</td>\n",
       "      <td>...</td>\n",
       "    </tr>\n",
       "    <tr>\n",
       "      <th>47875693</th>\n",
       "      <td>368</td>\n",
       "      <td>303</td>\n",
       "      <td>172</td>\n",
       "      <td>0.414054</td>\n",
       "    </tr>\n",
       "    <tr>\n",
       "      <th>47875694</th>\n",
       "      <td>368</td>\n",
       "      <td>303</td>\n",
       "      <td>173</td>\n",
       "      <td>0.413919</td>\n",
       "    </tr>\n",
       "    <tr>\n",
       "      <th>47875695</th>\n",
       "      <td>368</td>\n",
       "      <td>303</td>\n",
       "      <td>174</td>\n",
       "      <td>0.385062</td>\n",
       "    </tr>\n",
       "    <tr>\n",
       "      <th>47875696</th>\n",
       "      <td>368</td>\n",
       "      <td>303</td>\n",
       "      <td>175</td>\n",
       "      <td>0.357323</td>\n",
       "    </tr>\n",
       "    <tr>\n",
       "      <th>47875697</th>\n",
       "      <td>368</td>\n",
       "      <td>303</td>\n",
       "      <td>176</td>\n",
       "      <td>0.345530</td>\n",
       "    </tr>\n",
       "  </tbody>\n",
       "</table>\n",
       "<p>31404315 rows × 4 columns</p>\n",
       "</div>"
      ],
      "text/plain": [
       "            d    x    y  norm_ZSD\n",
       "12706       0    0    0  0.578687\n",
       "12707       0    0    1  0.600626\n",
       "12708       0    0    2  0.603027\n",
       "12709       0    0    3  0.606370\n",
       "12710       0    0    4  0.608797\n",
       "...       ...  ...  ...       ...\n",
       "47875693  368  303  172  0.414054\n",
       "47875694  368  303  173  0.413919\n",
       "47875695  368  303  174  0.385062\n",
       "47875696  368  303  175  0.357323\n",
       "47875697  368  303  176  0.345530\n",
       "\n",
       "[31404315 rows x 4 columns]"
      ]
     },
     "execution_count": 82,
     "metadata": {},
     "output_type": "execute_result"
    }
   ],
   "source": [
    "img_df = df[['d','x', 'y', 'norm_ZSD']]\n",
    "img_df"
   ]
  },
  {
   "cell_type": "code",
   "execution_count": 280,
   "id": "f72c2af2-c886-40df-8b66-5d4f330b74af",
   "metadata": {},
   "outputs": [
    {
     "data": {
      "text/plain": [
       "1348"
      ]
     },
     "execution_count": 280,
     "metadata": {},
     "output_type": "execute_result"
    }
   ],
   "source": [
    "H*4"
   ]
  },
  {
   "cell_type": "code",
   "execution_count": 315,
   "id": "4f5d5163-e7b3-48b7-bc00-3deb3b92da8b",
   "metadata": {},
   "outputs": [
    {
     "data": {
      "text/plain": [
       "(Timestamp('2022-01-31 00:00:00'), Timestamp('2023-02-03 00:00:00'))"
      ]
     },
     "execution_count": 315,
     "metadata": {},
     "output_type": "execute_result"
    }
   ],
   "source": [
    "df.time.min(), df.time.max()"
   ]
  },
  {
   "cell_type": "code",
   "execution_count": 83,
   "id": "59e1a44c-a3fd-4b9f-a7eb-136d4151ed88",
   "metadata": {},
   "outputs": [],
   "source": [
    "x_img = np.zeros((img_df.d.max()+1, img_df.x.max()+1, img_df.y.max()+1))"
   ]
  },
  {
   "cell_type": "code",
   "execution_count": null,
   "id": "af63be2e-1032-491c-8b03-a759e0ad114d",
   "metadata": {},
   "outputs": [],
   "source": []
  },
  {
   "cell_type": "code",
   "execution_count": 84,
   "id": "926cc0e9-f365-4099-9d19-070f81407747",
   "metadata": {},
   "outputs": [
    {
     "data": {
      "text/plain": [
       "(369, 336, 384)"
      ]
     },
     "execution_count": 84,
     "metadata": {},
     "output_type": "execute_result"
    }
   ],
   "source": [
    "x_img.shape"
   ]
  },
  {
   "cell_type": "code",
   "execution_count": 85,
   "id": "e4065fe5-06e4-49a6-9df8-f834409d04db",
   "metadata": {},
   "outputs": [],
   "source": [
    "x_img[img_df.d, img_df.x, img_df.y] = img_df.norm_ZSD"
   ]
  },
  {
   "cell_type": "code",
   "execution_count": 86,
   "id": "9dcf10ba-49fd-447e-bb33-edb32fcefcdb",
   "metadata": {},
   "outputs": [
    {
     "data": {
      "text/plain": [
       "tensor[369, 1, 336, 384] f64 n=47609856 x∈[0., 1.000] μ=0.193 σ=0.185"
      ]
     },
     "execution_count": 86,
     "metadata": {},
     "output_type": "execute_result"
    }
   ],
   "source": [
    "zsd_img1 = torch.tensor(x_img).unsqueeze(1)\n",
    "zsd_img1"
   ]
  },
  {
   "cell_type": "code",
   "execution_count": 96,
   "id": "7be38420-148a-4e70-9565-da502ca74969",
   "metadata": {},
   "outputs": [
    {
     "data": {
      "image/png": "[encoded data removed]",
      "text/plain": [
       "<lovely_tensors.repr_rgb.RGBProxy at 0x7fb9401e6a90>"
      ]
     },
     "execution_count": 96,
     "metadata": {},
     "output_type": "execute_result"
    }
   ],
   "source": [
    "zsd_img1[0].expand(3, H, W).rgb"
   ]
  },
  {
   "cell_type": "code",
   "execution_count": 300,
   "id": "0f3e0c3c-9b73-4741-b26d-fe4db2e49ae5",
   "metadata": {},
   "outputs": [],
   "source": [
    "from moviepy.video.io.ImageSequenceClip import ImageSequenceClip"
   ]
  },
  {
   "cell_type": "code",
   "execution_count": 314,
   "id": "4b86e4ab-8601-495c-a11a-633da41bed5b",
   "metadata": {},
   "outputs": [
    {
     "name": "stdout",
     "output_type": "stream",
     "text": [
      "Moviepy - Building video sea_depth.mp4.\n",
      "Moviepy - Writing video sea_depth.mp4\n",
      "\n"
     ]
    },
    {
     "name": "stderr",
     "output_type": "stream",
     "text": [
      "                                                                                                                                    \r"
     ]
    },
    {
     "name": "stdout",
     "output_type": "stream",
     "text": [
      "Moviepy - Done !\n",
      "Moviepy - video ready sea_depth.mp4\n"
     ]
    }
   ],
   "source": [
    "fps=30\n",
    "\n",
    "out_video_path = 'sea_depth.mp4'\n",
    "\n",
    "frames = [(f.expand(3, H, W).permute(1,2,0).numpy() * 255).astype(np.uint8) for f in zsd_img]\n",
    "\n",
    "clip = clip =ImageSequenceClip(frames, fps=fps)\n",
    "clip.write_videofile(out_video_path, fps=fps)"
   ]
  },
  {
   "cell_type": "code",
   "execution_count": null,
   "id": "b8f4f633-86e0-4734-a6e6-47faccf57c06",
   "metadata": {},
   "outputs": [],
   "source": []
  }
 ],
 "metadata": {
  "kernelspec": {
   "display_name": "Python 3 (ipykernel)",
   "language": "python",
   "name": "python3"
  },
  "language_info": {
   "codemirror_mode": {
    "name": "ipython",
    "version": 3
   },
   "file_extension": ".py",
   "mimetype": "text/x-python",
   "name": "python",
   "nbconvert_exporter": "python",
   "pygments_lexer": "ipython3",
   "version": "3.8.12"
  }
 },
 "nbformat": 4,
 "nbformat_minor": 5
}
